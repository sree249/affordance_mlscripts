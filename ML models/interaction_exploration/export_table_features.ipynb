{
 "cells": [
  {
   "cell_type": "code",
   "execution_count": 2,
   "metadata": {},
   "outputs": [],
   "source": [
    "from patsy import dmatrices\n",
    "import pandas as pd"
   ]
  },
  {
   "cell_type": "code",
   "execution_count": 6,
   "metadata": {},
   "outputs": [
    {
     "name": "stdout",
     "output_type": "stream",
     "text": [
      "current device dataset: Smart_Phone\n",
      "120\n",
      "26\n",
      "actual_use ~ location_1*Smart_Phone_Q4_feat1+location_1*Smart_Phone_Q1_feat2+location_1*Smart_Phone_Q11_feat2+location_1*Smart_Phone_Q5_feat1+location_1*Smart_Phone_Q10_feat3+location_1*Smart_Phone_Q9_feat3+location_1*Smart_Phone_Q12_feat1+location_1*Smart_Phone_Q3_feat2+location_1*Smart_Phone_Q3_feat3+location_1*Smart_Phone_Q3_feat1+location_1*Smart_Phone_Q2_feat1+location_1*Smart_Phone_Q6_feat1+location_1*Smart_Phone_Q13_feat4+location_1*Smart_Phone_Q7_feat1+location_1*Smart_Phone_Q8_feat2+location_1*Smart_Phone_Q13_feat2+location_1*Smart_Phone_Q8_feat5+location_1*Smart_Phone_Q10_feat2+location_1*Smart_Phone_Q11_feat1+location_1*Smart_Phone_Q7_feat2+location_2*Smart_Phone_Q4_feat1+location_2*Smart_Phone_Q1_feat2+location_2*Smart_Phone_Q11_feat2+location_2*Smart_Phone_Q5_feat1+location_2*Smart_Phone_Q10_feat3+location_2*Smart_Phone_Q9_feat3+location_2*Smart_Phone_Q12_feat1+location_2*Smart_Phone_Q3_feat2+location_2*Smart_Phone_Q3_feat3+location_2*Smart_Phone_Q3_feat1+location_2*Smart_Phone_Q2_feat1+location_2*Smart_Phone_Q6_feat1+location_2*Smart_Phone_Q13_feat4+location_2*Smart_Phone_Q7_feat1+location_2*Smart_Phone_Q8_feat2+location_2*Smart_Phone_Q13_feat2+location_2*Smart_Phone_Q8_feat5+location_2*Smart_Phone_Q10_feat2+location_2*Smart_Phone_Q11_feat1+location_2*Smart_Phone_Q7_feat2+location_3*Smart_Phone_Q4_feat1+location_3*Smart_Phone_Q1_feat2+location_3*Smart_Phone_Q11_feat2+location_3*Smart_Phone_Q5_feat1+location_3*Smart_Phone_Q10_feat3+location_3*Smart_Phone_Q9_feat3+location_3*Smart_Phone_Q12_feat1+location_3*Smart_Phone_Q3_feat2+location_3*Smart_Phone_Q3_feat3+location_3*Smart_Phone_Q3_feat1+location_3*Smart_Phone_Q2_feat1+location_3*Smart_Phone_Q6_feat1+location_3*Smart_Phone_Q13_feat4+location_3*Smart_Phone_Q7_feat1+location_3*Smart_Phone_Q8_feat2+location_3*Smart_Phone_Q13_feat2+location_3*Smart_Phone_Q8_feat5+location_3*Smart_Phone_Q10_feat2+location_3*Smart_Phone_Q11_feat1+location_3*Smart_Phone_Q7_feat2+Relationship_1*Smart_Phone_Q4_feat1+Relationship_1*Smart_Phone_Q1_feat2+Relationship_1*Smart_Phone_Q11_feat2+Relationship_1*Smart_Phone_Q5_feat1+Relationship_1*Smart_Phone_Q10_feat3+Relationship_1*Smart_Phone_Q9_feat3+Relationship_1*Smart_Phone_Q12_feat1+Relationship_1*Smart_Phone_Q3_feat2+Relationship_1*Smart_Phone_Q3_feat3+Relationship_1*Smart_Phone_Q3_feat1+Relationship_1*Smart_Phone_Q2_feat1+Relationship_1*Smart_Phone_Q6_feat1+Relationship_1*Smart_Phone_Q13_feat4+Relationship_1*Smart_Phone_Q7_feat1+Relationship_1*Smart_Phone_Q8_feat2+Relationship_1*Smart_Phone_Q13_feat2+Relationship_1*Smart_Phone_Q8_feat5+Relationship_1*Smart_Phone_Q10_feat2+Relationship_1*Smart_Phone_Q11_feat1+Relationship_1*Smart_Phone_Q7_feat2+Relationship_2*Smart_Phone_Q4_feat1+Relationship_2*Smart_Phone_Q1_feat2+Relationship_2*Smart_Phone_Q11_feat2+Relationship_2*Smart_Phone_Q5_feat1+Relationship_2*Smart_Phone_Q10_feat3+Relationship_2*Smart_Phone_Q9_feat3+Relationship_2*Smart_Phone_Q12_feat1+Relationship_2*Smart_Phone_Q3_feat2+Relationship_2*Smart_Phone_Q3_feat3+Relationship_2*Smart_Phone_Q3_feat1+Relationship_2*Smart_Phone_Q2_feat1+Relationship_2*Smart_Phone_Q6_feat1+Relationship_2*Smart_Phone_Q13_feat4+Relationship_2*Smart_Phone_Q7_feat1+Relationship_2*Smart_Phone_Q8_feat2+Relationship_2*Smart_Phone_Q13_feat2+Relationship_2*Smart_Phone_Q8_feat5+Relationship_2*Smart_Phone_Q10_feat2+Relationship_2*Smart_Phone_Q11_feat1+Relationship_2*Smart_Phone_Q7_feat2+Relationship_3*Smart_Phone_Q4_feat1+Relationship_3*Smart_Phone_Q1_feat2+Relationship_3*Smart_Phone_Q11_feat2+Relationship_3*Smart_Phone_Q5_feat1+Relationship_3*Smart_Phone_Q10_feat3+Relationship_3*Smart_Phone_Q9_feat3+Relationship_3*Smart_Phone_Q12_feat1+Relationship_3*Smart_Phone_Q3_feat2+Relationship_3*Smart_Phone_Q3_feat3+Relationship_3*Smart_Phone_Q3_feat1+Relationship_3*Smart_Phone_Q2_feat1+Relationship_3*Smart_Phone_Q6_feat1+Relationship_3*Smart_Phone_Q13_feat4+Relationship_3*Smart_Phone_Q7_feat1+Relationship_3*Smart_Phone_Q8_feat2+Relationship_3*Smart_Phone_Q13_feat2+Relationship_3*Smart_Phone_Q8_feat5+Relationship_3*Smart_Phone_Q10_feat2+Relationship_3*Smart_Phone_Q11_feat1+Relationship_3*Smart_Phone_Q7_feat2\n",
      "current device dataset: Laptop\n",
      "120\n",
      "26\n",
      "actual_use ~ location_1*Laptop_Q5_feat1+location_1*Laptop_Q11_feat2+location_1*Laptop_Q10_feat3+location_1*Laptop_Q3_feat3+location_1*Laptop_Q9_feat3+location_1*Laptop_Q1_feat4+location_1*Laptop_Q8_feat5+location_1*Laptop_Q3_feat2+location_1*Laptop_Q1_feat2+location_1*Laptop_Q12_feat1+location_1*Laptop_Q4_feat3+location_1*Laptop_Q2_feat1+location_1*Laptop_Q11_feat1+location_1*Laptop_Q6_feat1+location_1*Laptop_Q4_feat1+location_1*Laptop_Q13_feat1+location_1*Laptop_Q9_feat2+location_1*Laptop_Q3_feat1+location_1*Laptop_Q7_feat5+location_1*Laptop_Q13_feat2+location_2*Laptop_Q5_feat1+location_2*Laptop_Q11_feat2+location_2*Laptop_Q10_feat3+location_2*Laptop_Q3_feat3+location_2*Laptop_Q9_feat3+location_2*Laptop_Q1_feat4+location_2*Laptop_Q8_feat5+location_2*Laptop_Q3_feat2+location_2*Laptop_Q1_feat2+location_2*Laptop_Q12_feat1+location_2*Laptop_Q4_feat3+location_2*Laptop_Q2_feat1+location_2*Laptop_Q11_feat1+location_2*Laptop_Q6_feat1+location_2*Laptop_Q4_feat1+location_2*Laptop_Q13_feat1+location_2*Laptop_Q9_feat2+location_2*Laptop_Q3_feat1+location_2*Laptop_Q7_feat5+location_2*Laptop_Q13_feat2+location_3*Laptop_Q5_feat1+location_3*Laptop_Q11_feat2+location_3*Laptop_Q10_feat3+location_3*Laptop_Q3_feat3+location_3*Laptop_Q9_feat3+location_3*Laptop_Q1_feat4+location_3*Laptop_Q8_feat5+location_3*Laptop_Q3_feat2+location_3*Laptop_Q1_feat2+location_3*Laptop_Q12_feat1+location_3*Laptop_Q4_feat3+location_3*Laptop_Q2_feat1+location_3*Laptop_Q11_feat1+location_3*Laptop_Q6_feat1+location_3*Laptop_Q4_feat1+location_3*Laptop_Q13_feat1+location_3*Laptop_Q9_feat2+location_3*Laptop_Q3_feat1+location_3*Laptop_Q7_feat5+location_3*Laptop_Q13_feat2+Relationship_1*Laptop_Q5_feat1+Relationship_1*Laptop_Q11_feat2+Relationship_1*Laptop_Q10_feat3+Relationship_1*Laptop_Q3_feat3+Relationship_1*Laptop_Q9_feat3+Relationship_1*Laptop_Q1_feat4+Relationship_1*Laptop_Q8_feat5+Relationship_1*Laptop_Q3_feat2+Relationship_1*Laptop_Q1_feat2+Relationship_1*Laptop_Q12_feat1+Relationship_1*Laptop_Q4_feat3+Relationship_1*Laptop_Q2_feat1+Relationship_1*Laptop_Q11_feat1+Relationship_1*Laptop_Q6_feat1+Relationship_1*Laptop_Q4_feat1+Relationship_1*Laptop_Q13_feat1+Relationship_1*Laptop_Q9_feat2+Relationship_1*Laptop_Q3_feat1+Relationship_1*Laptop_Q7_feat5+Relationship_1*Laptop_Q13_feat2+Relationship_2*Laptop_Q5_feat1+Relationship_2*Laptop_Q11_feat2+Relationship_2*Laptop_Q10_feat3+Relationship_2*Laptop_Q3_feat3+Relationship_2*Laptop_Q9_feat3+Relationship_2*Laptop_Q1_feat4+Relationship_2*Laptop_Q8_feat5+Relationship_2*Laptop_Q3_feat2+Relationship_2*Laptop_Q1_feat2+Relationship_2*Laptop_Q12_feat1+Relationship_2*Laptop_Q4_feat3+Relationship_2*Laptop_Q2_feat1+Relationship_2*Laptop_Q11_feat1+Relationship_2*Laptop_Q6_feat1+Relationship_2*Laptop_Q4_feat1+Relationship_2*Laptop_Q13_feat1+Relationship_2*Laptop_Q9_feat2+Relationship_2*Laptop_Q3_feat1+Relationship_2*Laptop_Q7_feat5+Relationship_2*Laptop_Q13_feat2+Relationship_3*Laptop_Q5_feat1+Relationship_3*Laptop_Q11_feat2+Relationship_3*Laptop_Q10_feat3+Relationship_3*Laptop_Q3_feat3+Relationship_3*Laptop_Q9_feat3+Relationship_3*Laptop_Q1_feat4+Relationship_3*Laptop_Q8_feat5+Relationship_3*Laptop_Q3_feat2+Relationship_3*Laptop_Q1_feat2+Relationship_3*Laptop_Q12_feat1+Relationship_3*Laptop_Q4_feat3+Relationship_3*Laptop_Q2_feat1+Relationship_3*Laptop_Q11_feat1+Relationship_3*Laptop_Q6_feat1+Relationship_3*Laptop_Q4_feat1+Relationship_3*Laptop_Q13_feat1+Relationship_3*Laptop_Q9_feat2+Relationship_3*Laptop_Q3_feat1+Relationship_3*Laptop_Q7_feat5+Relationship_3*Laptop_Q13_feat2\n",
      "current device dataset: Desktop_Computer\n",
      "120\n",
      "26\n",
      "actual_use ~ location_1*Desktop_Computer_Q5_feat1+location_1*Desktop_Computer_Q10_feat3+location_1*Desktop_Computer_Q4_feat3+location_1*Desktop_Computer_Q11_feat2+location_1*Desktop_Computer_Q1_feat4+location_1*Desktop_Computer_Q9_feat3+location_1*Desktop_Computer_Q3_feat3+location_1*Desktop_Computer_Q3_feat2+location_1*Desktop_Computer_Q8_feat5+location_1*Desktop_Computer_Q11_feat1+location_1*Desktop_Computer_Q13_feat1+location_1*Desktop_Computer_Q6_feat1+location_1*Desktop_Computer_Q3_feat1+location_1*Desktop_Computer_Q9_feat2+location_1*Desktop_Computer_Q7_feat5+location_1*Desktop_Computer_Q13_feat4+location_1*Desktop_Computer_Q10_feat2+location_1*Desktop_Computer_Q2_feat5+location_1*Desktop_Computer_Q12_feat5+location_1*Desktop_Computer_Q12_feat3+location_2*Desktop_Computer_Q5_feat1+location_2*Desktop_Computer_Q10_feat3+location_2*Desktop_Computer_Q4_feat3+location_2*Desktop_Computer_Q11_feat2+location_2*Desktop_Computer_Q1_feat4+location_2*Desktop_Computer_Q9_feat3+location_2*Desktop_Computer_Q3_feat3+location_2*Desktop_Computer_Q3_feat2+location_2*Desktop_Computer_Q8_feat5+location_2*Desktop_Computer_Q11_feat1+location_2*Desktop_Computer_Q13_feat1+location_2*Desktop_Computer_Q6_feat1+location_2*Desktop_Computer_Q3_feat1+location_2*Desktop_Computer_Q9_feat2+location_2*Desktop_Computer_Q7_feat5+location_2*Desktop_Computer_Q13_feat4+location_2*Desktop_Computer_Q10_feat2+location_2*Desktop_Computer_Q2_feat5+location_2*Desktop_Computer_Q12_feat5+location_2*Desktop_Computer_Q12_feat3+location_3*Desktop_Computer_Q5_feat1+location_3*Desktop_Computer_Q10_feat3+location_3*Desktop_Computer_Q4_feat3+location_3*Desktop_Computer_Q11_feat2+location_3*Desktop_Computer_Q1_feat4+location_3*Desktop_Computer_Q9_feat3+location_3*Desktop_Computer_Q3_feat3+location_3*Desktop_Computer_Q3_feat2+location_3*Desktop_Computer_Q8_feat5+location_3*Desktop_Computer_Q11_feat1+location_3*Desktop_Computer_Q13_feat1+location_3*Desktop_Computer_Q6_feat1+location_3*Desktop_Computer_Q3_feat1+location_3*Desktop_Computer_Q9_feat2+location_3*Desktop_Computer_Q7_feat5+location_3*Desktop_Computer_Q13_feat4+location_3*Desktop_Computer_Q10_feat2+location_3*Desktop_Computer_Q2_feat5+location_3*Desktop_Computer_Q12_feat5+location_3*Desktop_Computer_Q12_feat3+Relationship_1*Desktop_Computer_Q5_feat1+Relationship_1*Desktop_Computer_Q10_feat3+Relationship_1*Desktop_Computer_Q4_feat3+Relationship_1*Desktop_Computer_Q11_feat2+Relationship_1*Desktop_Computer_Q1_feat4+Relationship_1*Desktop_Computer_Q9_feat3+Relationship_1*Desktop_Computer_Q3_feat3+Relationship_1*Desktop_Computer_Q3_feat2+Relationship_1*Desktop_Computer_Q8_feat5+Relationship_1*Desktop_Computer_Q11_feat1+Relationship_1*Desktop_Computer_Q13_feat1+Relationship_1*Desktop_Computer_Q6_feat1+Relationship_1*Desktop_Computer_Q3_feat1+Relationship_1*Desktop_Computer_Q9_feat2+Relationship_1*Desktop_Computer_Q7_feat5+Relationship_1*Desktop_Computer_Q13_feat4+Relationship_1*Desktop_Computer_Q10_feat2+Relationship_1*Desktop_Computer_Q2_feat5+Relationship_1*Desktop_Computer_Q12_feat5+Relationship_1*Desktop_Computer_Q12_feat3+Relationship_2*Desktop_Computer_Q5_feat1+Relationship_2*Desktop_Computer_Q10_feat3+Relationship_2*Desktop_Computer_Q4_feat3+Relationship_2*Desktop_Computer_Q11_feat2+Relationship_2*Desktop_Computer_Q1_feat4+Relationship_2*Desktop_Computer_Q9_feat3+Relationship_2*Desktop_Computer_Q3_feat3+Relationship_2*Desktop_Computer_Q3_feat2+Relationship_2*Desktop_Computer_Q8_feat5+Relationship_2*Desktop_Computer_Q11_feat1+Relationship_2*Desktop_Computer_Q13_feat1+Relationship_2*Desktop_Computer_Q6_feat1+Relationship_2*Desktop_Computer_Q3_feat1+Relationship_2*Desktop_Computer_Q9_feat2+Relationship_2*Desktop_Computer_Q7_feat5+Relationship_2*Desktop_Computer_Q13_feat4+Relationship_2*Desktop_Computer_Q10_feat2+Relationship_2*Desktop_Computer_Q2_feat5+Relationship_2*Desktop_Computer_Q12_feat5+Relationship_2*Desktop_Computer_Q12_feat3+Relationship_3*Desktop_Computer_Q5_feat1+Relationship_3*Desktop_Computer_Q10_feat3+Relationship_3*Desktop_Computer_Q4_feat3+Relationship_3*Desktop_Computer_Q11_feat2+Relationship_3*Desktop_Computer_Q1_feat4+Relationship_3*Desktop_Computer_Q9_feat3+Relationship_3*Desktop_Computer_Q3_feat3+Relationship_3*Desktop_Computer_Q3_feat2+Relationship_3*Desktop_Computer_Q8_feat5+Relationship_3*Desktop_Computer_Q11_feat1+Relationship_3*Desktop_Computer_Q13_feat1+Relationship_3*Desktop_Computer_Q6_feat1+Relationship_3*Desktop_Computer_Q3_feat1+Relationship_3*Desktop_Computer_Q9_feat2+Relationship_3*Desktop_Computer_Q7_feat5+Relationship_3*Desktop_Computer_Q13_feat4+Relationship_3*Desktop_Computer_Q10_feat2+Relationship_3*Desktop_Computer_Q2_feat5+Relationship_3*Desktop_Computer_Q12_feat5+Relationship_3*Desktop_Computer_Q12_feat3\n",
      "current device dataset: Tablet\n",
      "120\n",
      "26\n",
      "actual_use ~ location_1*Tablet_Q5_feat1+location_1*Tablet_Q10_feat3+location_1*Tablet_Q11_feat2+location_1*Tablet_Q1_feat2+location_1*Tablet_Q9_feat3+location_1*Tablet_Q4_feat1+location_1*Tablet_Q3_feat3+location_1*Tablet_Q8_feat5+location_1*Tablet_Q6_feat1+location_1*Tablet_Q7_feat5+location_1*Tablet_Q13_feat4+location_1*Tablet_Q3_feat2+location_1*Tablet_Q2_feat1+location_1*Tablet_Q12_feat5+location_1*Tablet_Q11_feat1+location_1*Tablet_Q1_feat3+location_1*Tablet_Q10_feat2+location_1*Tablet_Q12_feat1+location_1*Tablet_Q13_feat1+location_1*Tablet_Q3_feat1+location_2*Tablet_Q5_feat1+location_2*Tablet_Q10_feat3+location_2*Tablet_Q11_feat2+location_2*Tablet_Q1_feat2+location_2*Tablet_Q9_feat3+location_2*Tablet_Q4_feat1+location_2*Tablet_Q3_feat3+location_2*Tablet_Q8_feat5+location_2*Tablet_Q6_feat1+location_2*Tablet_Q7_feat5+location_2*Tablet_Q13_feat4+location_2*Tablet_Q3_feat2+location_2*Tablet_Q2_feat1+location_2*Tablet_Q12_feat5+location_2*Tablet_Q11_feat1+location_2*Tablet_Q1_feat3+location_2*Tablet_Q10_feat2+location_2*Tablet_Q12_feat1+location_2*Tablet_Q13_feat1+location_2*Tablet_Q3_feat1+location_3*Tablet_Q5_feat1+location_3*Tablet_Q10_feat3+location_3*Tablet_Q11_feat2+location_3*Tablet_Q1_feat2+location_3*Tablet_Q9_feat3+location_3*Tablet_Q4_feat1+location_3*Tablet_Q3_feat3+location_3*Tablet_Q8_feat5+location_3*Tablet_Q6_feat1+location_3*Tablet_Q7_feat5+location_3*Tablet_Q13_feat4+location_3*Tablet_Q3_feat2+location_3*Tablet_Q2_feat1+location_3*Tablet_Q12_feat5+location_3*Tablet_Q11_feat1+location_3*Tablet_Q1_feat3+location_3*Tablet_Q10_feat2+location_3*Tablet_Q12_feat1+location_3*Tablet_Q13_feat1+location_3*Tablet_Q3_feat1+Relationship_1*Tablet_Q5_feat1+Relationship_1*Tablet_Q10_feat3+Relationship_1*Tablet_Q11_feat2+Relationship_1*Tablet_Q1_feat2+Relationship_1*Tablet_Q9_feat3+Relationship_1*Tablet_Q4_feat1+Relationship_1*Tablet_Q3_feat3+Relationship_1*Tablet_Q8_feat5+Relationship_1*Tablet_Q6_feat1+Relationship_1*Tablet_Q7_feat5+Relationship_1*Tablet_Q13_feat4+Relationship_1*Tablet_Q3_feat2+Relationship_1*Tablet_Q2_feat1+Relationship_1*Tablet_Q12_feat5+Relationship_1*Tablet_Q11_feat1+Relationship_1*Tablet_Q1_feat3+Relationship_1*Tablet_Q10_feat2+Relationship_1*Tablet_Q12_feat1+Relationship_1*Tablet_Q13_feat1+Relationship_1*Tablet_Q3_feat1+Relationship_2*Tablet_Q5_feat1+Relationship_2*Tablet_Q10_feat3+Relationship_2*Tablet_Q11_feat2+Relationship_2*Tablet_Q1_feat2+Relationship_2*Tablet_Q9_feat3+Relationship_2*Tablet_Q4_feat1+Relationship_2*Tablet_Q3_feat3+Relationship_2*Tablet_Q8_feat5+Relationship_2*Tablet_Q6_feat1+Relationship_2*Tablet_Q7_feat5+Relationship_2*Tablet_Q13_feat4+Relationship_2*Tablet_Q3_feat2+Relationship_2*Tablet_Q2_feat1+Relationship_2*Tablet_Q12_feat5+Relationship_2*Tablet_Q11_feat1+Relationship_2*Tablet_Q1_feat3+Relationship_2*Tablet_Q10_feat2+Relationship_2*Tablet_Q12_feat1+Relationship_2*Tablet_Q13_feat1+Relationship_2*Tablet_Q3_feat1+Relationship_3*Tablet_Q5_feat1+Relationship_3*Tablet_Q10_feat3+Relationship_3*Tablet_Q11_feat2+Relationship_3*Tablet_Q1_feat2+Relationship_3*Tablet_Q9_feat3+Relationship_3*Tablet_Q4_feat1+Relationship_3*Tablet_Q3_feat3+Relationship_3*Tablet_Q8_feat5+Relationship_3*Tablet_Q6_feat1+Relationship_3*Tablet_Q7_feat5+Relationship_3*Tablet_Q13_feat4+Relationship_3*Tablet_Q3_feat2+Relationship_3*Tablet_Q2_feat1+Relationship_3*Tablet_Q12_feat5+Relationship_3*Tablet_Q11_feat1+Relationship_3*Tablet_Q1_feat3+Relationship_3*Tablet_Q10_feat2+Relationship_3*Tablet_Q12_feat1+Relationship_3*Tablet_Q13_feat1+Relationship_3*Tablet_Q3_feat1\n"
     ]
    },
    {
     "name": "stdout",
     "output_type": "stream",
     "text": [
      "current device dataset: Smart_Speaker\n",
      "120\n",
      "26\n",
      "actual_use ~ location_1*Smart_Speaker_Q10_feat2+location_1*Smart_Speaker_Q1_feat1+location_1*Smart_Speaker_Q13_feat4+location_1*Smart_Speaker_Q11_feat3+location_1*Smart_Speaker_Q9_feat4+location_1*Smart_Speaker_Q3_feat4+location_1*Smart_Speaker_Q12_feat5+location_1*Smart_Speaker_Q5_feat3+location_1*Smart_Speaker_Q7_feat5+location_1*Smart_Speaker_Q2_feat5+location_1*Smart_Speaker_Q6_feat2+location_1*Smart_Speaker_Q6_feat1+location_1*Smart_Speaker_Q8_feat1+location_1*Smart_Speaker_Q4_feat1+location_1*Smart_Speaker_Q4_feat3+location_1*Smart_Speaker_Q5_feat4+location_1*Smart_Speaker_Q8_feat2+location_1*Smart_Speaker_Q5_feat2+location_1*Smart_Speaker_Q10_feat4+location_1*Smart_Speaker_Q7_feat3+location_2*Smart_Speaker_Q10_feat2+location_2*Smart_Speaker_Q1_feat1+location_2*Smart_Speaker_Q13_feat4+location_2*Smart_Speaker_Q11_feat3+location_2*Smart_Speaker_Q9_feat4+location_2*Smart_Speaker_Q3_feat4+location_2*Smart_Speaker_Q12_feat5+location_2*Smart_Speaker_Q5_feat3+location_2*Smart_Speaker_Q7_feat5+location_2*Smart_Speaker_Q2_feat5+location_2*Smart_Speaker_Q6_feat2+location_2*Smart_Speaker_Q6_feat1+location_2*Smart_Speaker_Q8_feat1+location_2*Smart_Speaker_Q4_feat1+location_2*Smart_Speaker_Q4_feat3+location_2*Smart_Speaker_Q5_feat4+location_2*Smart_Speaker_Q8_feat2+location_2*Smart_Speaker_Q5_feat2+location_2*Smart_Speaker_Q10_feat4+location_2*Smart_Speaker_Q7_feat3+location_3*Smart_Speaker_Q10_feat2+location_3*Smart_Speaker_Q1_feat1+location_3*Smart_Speaker_Q13_feat4+location_3*Smart_Speaker_Q11_feat3+location_3*Smart_Speaker_Q9_feat4+location_3*Smart_Speaker_Q3_feat4+location_3*Smart_Speaker_Q12_feat5+location_3*Smart_Speaker_Q5_feat3+location_3*Smart_Speaker_Q7_feat5+location_3*Smart_Speaker_Q2_feat5+location_3*Smart_Speaker_Q6_feat2+location_3*Smart_Speaker_Q6_feat1+location_3*Smart_Speaker_Q8_feat1+location_3*Smart_Speaker_Q4_feat1+location_3*Smart_Speaker_Q4_feat3+location_3*Smart_Speaker_Q5_feat4+location_3*Smart_Speaker_Q8_feat2+location_3*Smart_Speaker_Q5_feat2+location_3*Smart_Speaker_Q10_feat4+location_3*Smart_Speaker_Q7_feat3+Relationship_1*Smart_Speaker_Q10_feat2+Relationship_1*Smart_Speaker_Q1_feat1+Relationship_1*Smart_Speaker_Q13_feat4+Relationship_1*Smart_Speaker_Q11_feat3+Relationship_1*Smart_Speaker_Q9_feat4+Relationship_1*Smart_Speaker_Q3_feat4+Relationship_1*Smart_Speaker_Q12_feat5+Relationship_1*Smart_Speaker_Q5_feat3+Relationship_1*Smart_Speaker_Q7_feat5+Relationship_1*Smart_Speaker_Q2_feat5+Relationship_1*Smart_Speaker_Q6_feat2+Relationship_1*Smart_Speaker_Q6_feat1+Relationship_1*Smart_Speaker_Q8_feat1+Relationship_1*Smart_Speaker_Q4_feat1+Relationship_1*Smart_Speaker_Q4_feat3+Relationship_1*Smart_Speaker_Q5_feat4+Relationship_1*Smart_Speaker_Q8_feat2+Relationship_1*Smart_Speaker_Q5_feat2+Relationship_1*Smart_Speaker_Q10_feat4+Relationship_1*Smart_Speaker_Q7_feat3+Relationship_2*Smart_Speaker_Q10_feat2+Relationship_2*Smart_Speaker_Q1_feat1+Relationship_2*Smart_Speaker_Q13_feat4+Relationship_2*Smart_Speaker_Q11_feat3+Relationship_2*Smart_Speaker_Q9_feat4+Relationship_2*Smart_Speaker_Q3_feat4+Relationship_2*Smart_Speaker_Q12_feat5+Relationship_2*Smart_Speaker_Q5_feat3+Relationship_2*Smart_Speaker_Q7_feat5+Relationship_2*Smart_Speaker_Q2_feat5+Relationship_2*Smart_Speaker_Q6_feat2+Relationship_2*Smart_Speaker_Q6_feat1+Relationship_2*Smart_Speaker_Q8_feat1+Relationship_2*Smart_Speaker_Q4_feat1+Relationship_2*Smart_Speaker_Q4_feat3+Relationship_2*Smart_Speaker_Q5_feat4+Relationship_2*Smart_Speaker_Q8_feat2+Relationship_2*Smart_Speaker_Q5_feat2+Relationship_2*Smart_Speaker_Q10_feat4+Relationship_2*Smart_Speaker_Q7_feat3+Relationship_3*Smart_Speaker_Q10_feat2+Relationship_3*Smart_Speaker_Q1_feat1+Relationship_3*Smart_Speaker_Q13_feat4+Relationship_3*Smart_Speaker_Q11_feat3+Relationship_3*Smart_Speaker_Q9_feat4+Relationship_3*Smart_Speaker_Q3_feat4+Relationship_3*Smart_Speaker_Q12_feat5+Relationship_3*Smart_Speaker_Q5_feat3+Relationship_3*Smart_Speaker_Q7_feat5+Relationship_3*Smart_Speaker_Q2_feat5+Relationship_3*Smart_Speaker_Q6_feat2+Relationship_3*Smart_Speaker_Q6_feat1+Relationship_3*Smart_Speaker_Q8_feat1+Relationship_3*Smart_Speaker_Q4_feat1+Relationship_3*Smart_Speaker_Q4_feat3+Relationship_3*Smart_Speaker_Q5_feat4+Relationship_3*Smart_Speaker_Q8_feat2+Relationship_3*Smart_Speaker_Q5_feat2+Relationship_3*Smart_Speaker_Q10_feat4+Relationship_3*Smart_Speaker_Q7_feat3\n",
      "current device dataset: Smart_Watch\n",
      "120\n",
      "26\n",
      "actual_use ~ location_1*Smart_Watch_Q1_feat2+location_1*Smart_Watch_Q9_feat3+location_1*Smart_Watch_Q5_feat1+location_1*Smart_Watch_Q11_feat2+location_1*Smart_Watch_Q10_feat3+location_1*Smart_Watch_Q4_feat1+location_1*Smart_Watch_Q3_feat3+location_1*Smart_Watch_Q6_feat1+location_1*Smart_Watch_Q7_feat5+location_1*Smart_Watch_Q10_feat2+location_1*Smart_Watch_Q13_feat4+location_1*Smart_Watch_Q2_feat5+location_1*Smart_Watch_Q8_feat5+location_1*Smart_Watch_Q3_feat2+location_1*Smart_Watch_Q12_feat1+location_1*Smart_Watch_Q10_feat1+location_1*Smart_Watch_Q12_feat5+location_1*Smart_Watch_Q11_feat1+location_1*Smart_Watch_Q8_feat2+location_1*Smart_Watch_Q1_feat1+location_2*Smart_Watch_Q1_feat2+location_2*Smart_Watch_Q9_feat3+location_2*Smart_Watch_Q5_feat1+location_2*Smart_Watch_Q11_feat2+location_2*Smart_Watch_Q10_feat3+location_2*Smart_Watch_Q4_feat1+location_2*Smart_Watch_Q3_feat3+location_2*Smart_Watch_Q6_feat1+location_2*Smart_Watch_Q7_feat5+location_2*Smart_Watch_Q10_feat2+location_2*Smart_Watch_Q13_feat4+location_2*Smart_Watch_Q2_feat5+location_2*Smart_Watch_Q8_feat5+location_2*Smart_Watch_Q3_feat2+location_2*Smart_Watch_Q12_feat1+location_2*Smart_Watch_Q10_feat1+location_2*Smart_Watch_Q12_feat5+location_2*Smart_Watch_Q11_feat1+location_2*Smart_Watch_Q8_feat2+location_2*Smart_Watch_Q1_feat1+location_3*Smart_Watch_Q1_feat2+location_3*Smart_Watch_Q9_feat3+location_3*Smart_Watch_Q5_feat1+location_3*Smart_Watch_Q11_feat2+location_3*Smart_Watch_Q10_feat3+location_3*Smart_Watch_Q4_feat1+location_3*Smart_Watch_Q3_feat3+location_3*Smart_Watch_Q6_feat1+location_3*Smart_Watch_Q7_feat5+location_3*Smart_Watch_Q10_feat2+location_3*Smart_Watch_Q13_feat4+location_3*Smart_Watch_Q2_feat5+location_3*Smart_Watch_Q8_feat5+location_3*Smart_Watch_Q3_feat2+location_3*Smart_Watch_Q12_feat1+location_3*Smart_Watch_Q10_feat1+location_3*Smart_Watch_Q12_feat5+location_3*Smart_Watch_Q11_feat1+location_3*Smart_Watch_Q8_feat2+location_3*Smart_Watch_Q1_feat1+Relationship_1*Smart_Watch_Q1_feat2+Relationship_1*Smart_Watch_Q9_feat3+Relationship_1*Smart_Watch_Q5_feat1+Relationship_1*Smart_Watch_Q11_feat2+Relationship_1*Smart_Watch_Q10_feat3+Relationship_1*Smart_Watch_Q4_feat1+Relationship_1*Smart_Watch_Q3_feat3+Relationship_1*Smart_Watch_Q6_feat1+Relationship_1*Smart_Watch_Q7_feat5+Relationship_1*Smart_Watch_Q10_feat2+Relationship_1*Smart_Watch_Q13_feat4+Relationship_1*Smart_Watch_Q2_feat5+Relationship_1*Smart_Watch_Q8_feat5+Relationship_1*Smart_Watch_Q3_feat2+Relationship_1*Smart_Watch_Q12_feat1+Relationship_1*Smart_Watch_Q10_feat1+Relationship_1*Smart_Watch_Q12_feat5+Relationship_1*Smart_Watch_Q11_feat1+Relationship_1*Smart_Watch_Q8_feat2+Relationship_1*Smart_Watch_Q1_feat1+Relationship_2*Smart_Watch_Q1_feat2+Relationship_2*Smart_Watch_Q9_feat3+Relationship_2*Smart_Watch_Q5_feat1+Relationship_2*Smart_Watch_Q11_feat2+Relationship_2*Smart_Watch_Q10_feat3+Relationship_2*Smart_Watch_Q4_feat1+Relationship_2*Smart_Watch_Q3_feat3+Relationship_2*Smart_Watch_Q6_feat1+Relationship_2*Smart_Watch_Q7_feat5+Relationship_2*Smart_Watch_Q10_feat2+Relationship_2*Smart_Watch_Q13_feat4+Relationship_2*Smart_Watch_Q2_feat5+Relationship_2*Smart_Watch_Q8_feat5+Relationship_2*Smart_Watch_Q3_feat2+Relationship_2*Smart_Watch_Q12_feat1+Relationship_2*Smart_Watch_Q10_feat1+Relationship_2*Smart_Watch_Q12_feat5+Relationship_2*Smart_Watch_Q11_feat1+Relationship_2*Smart_Watch_Q8_feat2+Relationship_2*Smart_Watch_Q1_feat1+Relationship_3*Smart_Watch_Q1_feat2+Relationship_3*Smart_Watch_Q9_feat3+Relationship_3*Smart_Watch_Q5_feat1+Relationship_3*Smart_Watch_Q11_feat2+Relationship_3*Smart_Watch_Q10_feat3+Relationship_3*Smart_Watch_Q4_feat1+Relationship_3*Smart_Watch_Q3_feat3+Relationship_3*Smart_Watch_Q6_feat1+Relationship_3*Smart_Watch_Q7_feat5+Relationship_3*Smart_Watch_Q10_feat2+Relationship_3*Smart_Watch_Q13_feat4+Relationship_3*Smart_Watch_Q2_feat5+Relationship_3*Smart_Watch_Q8_feat5+Relationship_3*Smart_Watch_Q3_feat2+Relationship_3*Smart_Watch_Q12_feat1+Relationship_3*Smart_Watch_Q10_feat1+Relationship_3*Smart_Watch_Q12_feat5+Relationship_3*Smart_Watch_Q11_feat1+Relationship_3*Smart_Watch_Q8_feat2+Relationship_3*Smart_Watch_Q1_feat1\n"
     ]
    }
   ],
   "source": [
    "#creating interaction terms\n",
    "device_list = ['Smart_Phone','Laptop', 'Desktop_Computer','Tablet','Smart_Speaker','Smart_Watch']\n",
    "\n",
    "\n",
    "for device in device_list:\n",
    "    \n",
    "    print(\"current device dataset:\", device)\n",
    "    file = '~/Dropbox/SYR_GAship/afforadance_Study/Datasets/Encoded_files/encoded_Affordance_November19_alldata_'+device+'_data.csv'\n",
    "    data = pd.read_csv(file)\n",
    "    \n",
    "    important_features = pd.read_csv('~/Dropbox/SYR_GAship/afforadance_Study/ML models/interaction_exploration/final_feature_set_encoded_Affordance_November19_alldata_selectkbest_'+device+'.csv')\n",
    "\n",
    " \n",
    "    training_head = list(important_features['features'])\n",
    "    \n",
    "        \n",
    "\n",
    "\n",
    "    #adding in scenario_variables:\n",
    "    scenario_heads = ['location_1','location_2','location_3','Relationship_1','Relationship_2','Relationship_3']\n",
    "    \n",
    "    count = 0\n",
    "    \n",
    "    #generate formula\n",
    "    \n",
    "    mystr = \"actual_use ~ \"\n",
    "    for scenario in scenario_heads:\n",
    "        for feat in training_head:\n",
    "            #mystr = mystr + scenario + ':' + feat +'+'\n",
    "            mystr = mystr + scenario + '*' + feat +'+'\n",
    "            count = count + 1\n",
    "            \n",
    "    print(count)\n",
    "  \n",
    "    training_head.extend(scenario_heads)\n",
    "    \n",
    "    print(len(training_head))\n",
    "\n",
    "\n",
    "    x_data = data[training_head]\n",
    "\n",
    "    #x_data = x_data.values.astype(float)\n",
    "\n",
    "\n",
    "\n",
    "    y_data = data[\"actual_use\"]\n",
    "    \n",
    "            \n",
    "    mystr = mystr[:len(mystr)-1]\n",
    "    \n",
    "    mydata = pd.concat([x_data,y_data],axis=1)\n",
    "    \n",
    "    print(mystr)\n",
    "    \n",
    "    y, X = dmatrices(mystr,mydata,return_type=\"dataframe\")\n",
    "    \n",
    "    #X.to_csv(device+\"_matrices.csv\")\n",
    "    X = X.drop('Intercept',axis=1)\n",
    "    X.to_csv(device+\"_matrices.csv\",index=False)\n",
    "    y.to_csv(device+\"_matrices_y.csv\",index=False)\n"
   ]
  },
  {
   "cell_type": "code",
   "execution_count": 4,
   "metadata": {},
   "outputs": [
    {
     "name": "stdout",
     "output_type": "stream",
     "text": [
      "current device dataset: Smart_Phone\n",
      "20\n",
      "current device dataset: Laptop\n",
      "20\n",
      "current device dataset: Desktop_Computer\n",
      "20\n",
      "current device dataset: Tablet\n",
      "20\n",
      "current device dataset: Smart_Speaker\n",
      "20\n",
      "current device dataset: Smart_Watch\n",
      "20\n"
     ]
    }
   ],
   "source": [
    "device_list = ['Smart_Phone','Laptop', 'Desktop_Computer','Tablet','Smart_Speaker','Smart_Watch']\n",
    "\n",
    "\n",
    "for device in device_list:\n",
    "    \n",
    "    print(\"current device dataset:\", device)\n",
    "    file = '~/Dropbox/SYR_GAship/afforadance_Study/Datasets/Encoded_files/encoded_Affordance_November19_alldata_'+device+'_data.csv'\n",
    "    data = pd.read_csv(file)\n",
    "    \n",
    "    important_features = pd.read_csv('~/Dropbox/SYR_GAship/afforadance_Study/ML models/interaction_exploration/final_feature_set_encoded_Affordance_November19_alldata_selectkbest_'+device+'.csv')\n",
    "\n",
    " \n",
    "    training_head = list(important_features['features'])\n",
    "    \n",
    "        \n",
    "\n",
    "\n",
    "    #adding in scenario_variables:\n",
    "    #scenario_heads = ['location_1','location_2','location_3','Relationship_1','Relationship_2','Relationship_3']\n",
    "    \n",
    "    count = 0\n",
    "    \n",
    "    #generate formula\n",
    "    \n",
    "  \n",
    "    #training_head.extend(scenario_heads)\n",
    "    \n",
    "    print(len(training_head))\n",
    "    \n",
    "    x_data = data[training_head]\n",
    "    \n",
    "    x_data.to_csv(device+\"_matrices_important.csv\",index=False)\n",
    "    \n",
    "    training_head.append(\"actual_use\")\n",
    "\n",
    "\n",
    "    x_data = data[training_head]\n",
    "\n",
    "    #x_data = x_data.values.astype(float)\n",
    "\n",
    "    \n",
    "    x_data.to_csv(device+\"_matrices_important_all.csv\",index=False)\n",
    "    #y_data.to_csv(device+\"_matrices_y_important.csv\",index=False)\n"
   ]
  },
  {
   "cell_type": "code",
   "execution_count": null,
   "metadata": {},
   "outputs": [],
   "source": []
  }
 ],
 "metadata": {
  "kernelspec": {
   "display_name": "Python 3",
   "language": "python",
   "name": "python3"
  },
  "language_info": {
   "codemirror_mode": {
    "name": "ipython",
    "version": 3
   },
   "file_extension": ".py",
   "mimetype": "text/x-python",
   "name": "python",
   "nbconvert_exporter": "python",
   "pygments_lexer": "ipython3",
   "version": "3.6.5"
  }
 },
 "nbformat": 4,
 "nbformat_minor": 2
}
