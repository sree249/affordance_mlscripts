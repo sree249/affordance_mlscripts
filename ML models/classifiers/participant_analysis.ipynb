{
 "cells": [
  {
   "cell_type": "code",
   "execution_count": 3,
   "metadata": {},
   "outputs": [],
   "source": [
    "import pandas as pd\n",
    "import numpy as np"
   ]
  },
  {
   "cell_type": "code",
   "execution_count": 4,
   "metadata": {},
   "outputs": [],
   "source": [
    "device_list = ['Desktop_Computer','Laptop','Tablet','Smart_Watch','Smart_Phone','Smart_Speaker']"
   ]
  },
  {
   "cell_type": "code",
   "execution_count": 11,
   "metadata": {},
   "outputs": [],
   "source": [
    "def participant_analysis(big_table,tmp_list):\n",
    "    means = []\n",
    "    for i in tmp_list:\n",
    "        tmp_value = big_table['actual_use_'+i] - big_table['Predictions_'+i]\n",
    "        tmp_abs = tmp_value.abs()\n",
    "        means.append(tmp_abs.mean())\n",
    "        \n",
    "    print(tmp_list)\n",
    "    print(1-np.mean(means))\n",
    "    print(tmp_value.size)"
   ]
  },
  {
   "cell_type": "code",
   "execution_count": 12,
   "metadata": {},
   "outputs": [
    {
     "name": "stdout",
     "output_type": "stream",
     "text": [
      "['Desktop_Computer', 'Laptop']\n",
      "0.8170731707317074\n",
      "205\n",
      "['Desktop_Computer', 'Laptop', 'Tablet']\n",
      "0.8390022675736961\n",
      "147\n",
      "['Desktop_Computer', 'Laptop', 'Tablet', 'Smart_Watch']\n",
      "0.8141891891891891\n",
      "74\n",
      "['Desktop_Computer', 'Laptop', 'Tablet', 'Smart_Watch', 'Smart_Phone']\n",
      "0.8350877192982457\n",
      "57\n",
      "['Desktop_Computer', 'Laptop', 'Tablet', 'Smart_Watch', 'Smart_Phone', 'Smart_Speaker']\n",
      "0.7183908045977012\n",
      "29\n"
     ]
    }
   ],
   "source": [
    "counter = 0\n",
    "tmp_list = []\n",
    "for i in device_list:\n",
    "    \n",
    "    tmp_list.append(i)\n",
    "    \n",
    "    if i =='Desktop_Computer':\n",
    "        big_table = pd.read_csv('predictions_'+str(i)+'.csv')\n",
    "    else:\n",
    "        tmp_table = pd.read_csv('predictions_'+str(i)+'.csv')\n",
    "        big_table = pd.merge(tmp_table,big_table,on='ResponseId')\n",
    "        \n",
    "    counter += 1\n",
    "    \n",
    "    if counter >1:\n",
    "        participant_analysis(big_table,tmp_list)\n",
    "        \n",
    "        \n",
    "        \n",
    "        \n",
    "    "
   ]
  },
  {
   "cell_type": "code",
   "execution_count": null,
   "metadata": {},
   "outputs": [],
   "source": []
  },
  {
   "cell_type": "code",
   "execution_count": null,
   "metadata": {},
   "outputs": [],
   "source": []
  }
 ],
 "metadata": {
  "kernelspec": {
   "display_name": "Python 3",
   "language": "python",
   "name": "python3"
  },
  "language_info": {
   "codemirror_mode": {
    "name": "ipython",
    "version": 3
   },
   "file_extension": ".py",
   "mimetype": "text/x-python",
   "name": "python",
   "nbconvert_exporter": "python",
   "pygments_lexer": "ipython3",
   "version": "3.6.5"
  }
 },
 "nbformat": 4,
 "nbformat_minor": 2
}
